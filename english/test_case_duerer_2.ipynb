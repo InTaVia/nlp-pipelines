{
 "cells": [
  {
   "attachments": {},
   "cell_type": "markdown",
   "metadata": {},
   "source": [
    "### Find Wikipedia Article"
   ]
  },
  {
   "cell_type": "code",
   "execution_count": 1,
   "metadata": {},
   "outputs": [
    {
     "name": "stdout",
     "output_type": "stream",
     "text": [
      "Options: {'Deutsche Schule Sevilla', 'Goslar', 'Albrecht Dürer'}\n",
      "Ordered Options Compund Metric: [RankedArticle(wikipage_title='Albrecht Dürer', queried_name='Albrecht Duerer', lev_similarity=0.896551724137931, token_overlap=0.5, dates_confidence=-1)]\n",
      "\n",
      "Retrieving page for Albrecht Dürer\n",
      "Wiki Life Data = (1471 - 1528)\n",
      "Page Chosen! Confidence Score = 1\n",
      "Found a Page: Albrecht Dürer\n",
      "Albrecht Dürer\n"
     ]
    }
   ],
   "source": [
    "import os\n",
    "from utils.utils_wiki import get_wikipedia_article, save_wikipedia_page\n",
    "from utils.nlp_common import preprocess_and_clean_text\n",
    "\n",
    "person_name = \"Albrecht Duerer\"\n",
    "wikipedia_title = None\n",
    "\n",
    "\n",
    "if not os.path.exists(\"data/wikipedia\"): os.makedirs(\"data/wikipedia\")\n",
    "if not os.path.exists(\"data/json\"): os.makedirs(\"data/json\")\n",
    "\n",
    "text_filename = f\"data/wikipedia/{person_name.replace(' ', '_').lower()}.txt\"\n",
    "json_nlp_filename = f\"data/json/{person_name.replace(' ', '_').lower()}.json\"\n",
    "\n",
    "\n",
    "wiki_page = get_wikipedia_article(person_name)\n",
    "if wiki_page:\n",
    "    print(f\"Found a Page: {wiki_page.title}\")\n",
    "    text = wiki_page.content\n",
    "    wikipedia_title = wiki_page.title\n",
    "    save_wikipedia_page(wiki_page, text_filename, include_metadata=True, include_sections=True)\n",
    "else:\n",
    "    print(f\"Query Failed! Couldn't find {person_name}\")\n",
    "\n",
    "text = preprocess_and_clean_text(text)\n",
    "print(wikipedia_title)"
   ]
  },
  {
   "cell_type": "code",
   "execution_count": 13,
   "metadata": {},
   "outputs": [],
   "source": [
    "import requests, re\n",
    "from collections import OrderedDict\n",
    "from typing import  Dict, Optional, Any\n",
    "from utils.utils_wiki import get_wiki_linked_entities\n",
    "\n",
    "wikipedia_title = \"Albrecht Dürer\"\n",
    "\n",
    "if wikipedia_title:\n",
    "    raw_file = f\"data/wikipedia/{wikipedia_title.replace(' ', '_').lower()}.raw.txt\"\n",
    "    response = requests.get(f'https://en.wikipedia.org/wiki/{wikipedia_title}?action=raw')\n",
    "    raw_wiki = response.text\n",
    "    with open(raw_file, \"w\") as f:\n",
    "        f.write(response.text)\n",
    "\n",
    "linked = get_wiki_linked_entities(raw_wiki)"
   ]
  },
  {
   "attachments": {},
   "cell_type": "markdown",
   "metadata": {},
   "source": [
    "### Clean & Pre-process Text (SpaCy)"
   ]
  },
  {
   "cell_type": "code",
   "execution_count": 14,
   "metadata": {},
   "outputs": [
    {
     "name": "stdout",
     "output_type": "stream",
     "text": [
      "Albrecht Dürer (; German: [ˈʔalbʁɛçt ˈdyːʁɐ]; Hungarian: Ajtósi Adalbert; 21 May 1471 – 6 April 1528\n",
      "dict_keys(['text', 'tokenization', 'morphology', 'entities', 'time_expressions', 'semantic_roles', 'coreference', 'frames', 'relations', 'linked_entities', 'input_text'])\n",
      "[{'ID': None, 'surfaceForm': 'Albrecht Dürer (;', 'category': 'PERSON', 'locationStart': 0, 'locationEnd': 17, 'tokenStart': 0, 'tokenEnd': 3, 'method': 'spacy'}, {'ID': None, 'surfaceForm': 'German', 'category': 'NORP', 'locationStart': 18, 'locationEnd': 24, 'tokenStart': 3, 'tokenEnd': 4, 'method': 'spacy'}, {'ID': None, 'surfaceForm': 'Hungarian', 'category': 'NORP', 'locationStart': 46, 'locationEnd': 55, 'tokenStart': 10, 'tokenEnd': 11, 'method': 'spacy'}, {'ID': None, 'surfaceForm': 'Ajtósi Adalbert', 'category': 'PERSON', 'locationStart': 57, 'locationEnd': 72, 'tokenStart': 12, 'tokenEnd': 14, 'method': 'spacy'}, {'ID': None, 'surfaceForm': '21', 'category': 'CARDINAL', 'locationStart': 74, 'locationEnd': 76, 'tokenStart': 15, 'tokenEnd': 16, 'method': 'spacy'}, {'ID': None, 'surfaceForm': 'May 1471', 'category': 'DATE', 'locationStart': 77, 'locationEnd': 85, 'tokenStart': 16, 'tokenEnd': 18, 'method': 'spacy'}, {'ID': None, 'surfaceForm': '6 April 1528', 'category': 'DATE', 'locationStart': 88, 'locationEnd': 100, 'tokenStart': 19, 'tokenEnd': 22, 'method': 'spacy'}, {'ID': None, 'surfaceForm': 'English', 'category': 'LANGUAGE', 'locationStart': 124, 'locationEnd': 131, 'tokenStart': 27, 'tokenEnd': 28, 'method': 'spacy'}, {'ID': None, 'surfaceForm': 'Durer', 'category': 'PERSON', 'locationStart': 135, 'locationEnd': 140, 'tokenStart': 29, 'tokenEnd': 30, 'method': 'spacy'}, {'ID': None, 'surfaceForm': 'Duerer', 'category': 'ORG', 'locationStart': 164, 'locationEnd': 170, 'tokenStart': 36, 'tokenEnd': 37, 'method': 'spacy'}, {'ID': None, 'surfaceForm': 'German', 'category': 'NORP', 'locationStart': 178, 'locationEnd': 184, 'tokenStart': 40, 'tokenEnd': 41, 'method': 'spacy'}, {'ID': None, 'surfaceForm': 'the German Renaissance', 'category': 'ORG', 'locationStart': 222, 'locationEnd': 244, 'tokenStart': 48, 'tokenEnd': 51, 'method': 'spacy'}, {'ID': None, 'surfaceForm': 'Nuremberg', 'category': 'GPE', 'locationStart': 254, 'locationEnd': 263, 'tokenStart': 54, 'tokenEnd': 55, 'method': 'spacy'}, {'ID': None, 'surfaceForm': 'Dürer', 'category': 'PERSON', 'locationStart': 265, 'locationEnd': 270, 'tokenStart': 56, 'tokenEnd': 57, 'method': 'spacy'}, {'ID': None, 'surfaceForm': 'Europe', 'category': 'LOC', 'locationStart': 319, 'locationEnd': 325, 'tokenStart': 63, 'tokenEnd': 64, 'method': 'spacy'}, {'ID': None, 'surfaceForm': 'twenties', 'category': 'DATE', 'locationStart': 333, 'locationEnd': 341, 'tokenStart': 66, 'tokenEnd': 67, 'method': 'spacy'}, {'ID': None, 'surfaceForm': 'Italian', 'category': 'NORP', 'locationStart': 415, 'locationEnd': 422, 'tokenStart': 83, 'tokenEnd': 84, 'method': 'spacy'}, {'ID': None, 'surfaceForm': 'Raphael', 'category': 'ORG', 'locationStart': 454, 'locationEnd': 461, 'tokenStart': 90, 'tokenEnd': 91, 'method': 'spacy'}, {'ID': None, 'surfaceForm': 'Giovanni Bellini', 'category': 'PERSON', 'locationStart': 463, 'locationEnd': 479, 'tokenStart': 92, 'tokenEnd': 94, 'method': 'spacy'}, {'ID': None, 'surfaceForm': 'Leonardo da Vinci', 'category': 'PERSON', 'locationStart': 485, 'locationEnd': 502, 'tokenStart': 96, 'tokenEnd': 99, 'method': 'spacy'}, {'ID': None, 'surfaceForm': '1512', 'category': 'DATE', 'locationStart': 513, 'locationEnd': 517, 'tokenStart': 102, 'tokenEnd': 103, 'method': 'spacy'}, {'ID': None, 'surfaceForm': \"Maximilian I. Dürer's\", 'category': 'PERSON', 'locationStart': 544, 'locationEnd': 565, 'tokenStart': 107, 'tokenEnd': 111, 'method': 'spacy'}, {'ID': None, 'surfaceForm': 'Gothic', 'category': 'LOC', 'locationStart': 746, 'locationEnd': 752, 'tokenStart': 143, 'tokenEnd': 144, 'method': 'spacy'}, {'ID': None, 'surfaceForm': 'the three Meisterstiche', 'category': 'ORG', 'locationStart': 814, 'locationEnd': 837, 'tokenStart': 157, 'tokenEnd': 160, 'method': 'spacy'}, {'ID': None, 'surfaceForm': 'Knight, Death and the Devil', 'category': 'ORG', 'locationStart': 854, 'locationEnd': 881, 'tokenStart': 164, 'tokenEnd': 170, 'method': 'spacy'}, {'ID': None, 'surfaceForm': '1513', 'category': 'DATE', 'locationStart': 883, 'locationEnd': 887, 'tokenStart': 171, 'tokenEnd': 172, 'method': 'spacy'}, {'ID': None, 'surfaceForm': 'Saint Jerome', 'category': 'PERSON', 'locationStart': 890, 'locationEnd': 902, 'tokenStart': 174, 'tokenEnd': 176, 'method': 'spacy'}, {'ID': None, 'surfaceForm': '1514', 'category': 'DATE', 'locationStart': 917, 'locationEnd': 921, 'tokenStart': 180, 'tokenEnd': 181, 'method': 'spacy'}, {'ID': None, 'surfaceForm': 'Melencolia', 'category': 'PERSON', 'locationStart': 928, 'locationEnd': 938, 'tokenStart': 184, 'tokenEnd': 185, 'method': 'spacy'}, {'ID': None, 'surfaceForm': '1514', 'category': 'DATE', 'locationStart': 942, 'locationEnd': 946, 'tokenStart': 187, 'tokenEnd': 188, 'method': 'spacy'}, {'ID': None, 'surfaceForm': 'one', 'category': 'CARDINAL', 'locationStart': 978, 'locationEnd': 981, 'tokenStart': 195, 'tokenEnd': 196, 'method': 'spacy'}, {'ID': None, 'surfaceForm': 'first', 'category': 'ORDINAL', 'locationStart': 989, 'locationEnd': 994, 'tokenStart': 198, 'tokenEnd': 199, 'method': 'spacy'}, {'ID': 'ent_0_0_allen', 'sentenceID': 0, 'surfaceForm': 'Albrecht Dürer', 'category': 'PER', 'locationStart': 0, 'locationEnd': 14, 'tokenStart': 0, 'tokenEnd': 2, 'sentenceTokenStart': 0, 'sentenceTokenEnd': 2, 'method': 'allennlp_2.9.0'}, {'ID': 'ent_1_0_allen', 'sentenceID': 1, 'surfaceForm': 'German', 'category': 'MISC', 'locationStart': 18, 'locationEnd': 24, 'tokenStart': 3, 'tokenEnd': 4, 'sentenceTokenStart': 0, 'sentenceTokenEnd': 1, 'method': 'allennlp_2.9.0'}, {'ID': 'ent_1_1_allen', 'sentenceID': 1, 'surfaceForm': 'Hungarian', 'category': 'MISC', 'locationStart': 46, 'locationEnd': 55, 'tokenStart': 10, 'tokenEnd': 11, 'sentenceTokenStart': 7, 'sentenceTokenEnd': 8, 'method': 'allennlp_2.9.0'}, {'ID': 'ent_1_2_allen', 'sentenceID': 1, 'surfaceForm': 'Ajtósi Adalbert', 'category': 'PER', 'locationStart': 57, 'locationEnd': 72, 'tokenStart': 12, 'tokenEnd': 14, 'sentenceTokenStart': 9, 'sentenceTokenEnd': 11, 'method': 'allennlp_2.9.0'}, {'ID': 'ent_1_3_allen', 'sentenceID': 1, 'surfaceForm': 'English', 'category': 'MISC', 'locationStart': 124, 'locationEnd': 131, 'tokenStart': 27, 'tokenEnd': 28, 'sentenceTokenStart': 24, 'sentenceTokenEnd': 25, 'method': 'allennlp_2.9.0'}, {'ID': 'ent_1_4_allen', 'sentenceID': 1, 'surfaceForm': 'Durer', 'category': 'PER', 'locationStart': 135, 'locationEnd': 140, 'tokenStart': 29, 'tokenEnd': 30, 'sentenceTokenStart': 26, 'sentenceTokenEnd': 27, 'method': 'allennlp_2.9.0'}, {'ID': 'ent_1_5_allen', 'sentenceID': 1, 'surfaceForm': 'Duerer', 'category': 'PER', 'locationStart': 164, 'locationEnd': 170, 'tokenStart': 36, 'tokenEnd': 37, 'sentenceTokenStart': 33, 'sentenceTokenEnd': 34, 'method': 'allennlp_2.9.0'}, {'ID': 'ent_1_6_allen', 'sentenceID': 1, 'surfaceForm': 'German', 'category': 'MISC', 'locationStart': 178, 'locationEnd': 184, 'tokenStart': 40, 'tokenEnd': 41, 'sentenceTokenStart': 37, 'sentenceTokenEnd': 38, 'method': 'allennlp_2.9.0'}, {'ID': 'ent_1_7_allen', 'sentenceID': 1, 'surfaceForm': 'German Renaissance', 'category': 'MISC', 'locationStart': 226, 'locationEnd': 244, 'tokenStart': 49, 'tokenEnd': 51, 'sentenceTokenStart': 46, 'sentenceTokenEnd': 48, 'method': 'allennlp_2.9.0'}, {'ID': 'ent_2_0_allen', 'sentenceID': 2, 'surfaceForm': 'Born', 'category': 'LOC', 'locationStart': 246, 'locationEnd': 250, 'tokenStart': 52, 'tokenEnd': 53, 'sentenceTokenStart': 0, 'sentenceTokenEnd': 1, 'method': 'allennlp_2.9.0'}, {'ID': 'ent_2_1_allen', 'sentenceID': 2, 'surfaceForm': 'Nuremberg', 'category': 'LOC', 'locationStart': 254, 'locationEnd': 263, 'tokenStart': 54, 'tokenEnd': 55, 'sentenceTokenStart': 2, 'sentenceTokenEnd': 3, 'method': 'allennlp_2.9.0'}, {'ID': 'ent_2_2_allen', 'sentenceID': 2, 'surfaceForm': 'Dürer', 'category': 'PER', 'locationStart': 265, 'locationEnd': 270, 'tokenStart': 56, 'tokenEnd': 57, 'sentenceTokenStart': 4, 'sentenceTokenEnd': 5, 'method': 'allennlp_2.9.0'}, {'ID': 'ent_2_3_allen', 'sentenceID': 2, 'surfaceForm': 'Europe', 'category': 'LOC', 'locationStart': 319, 'locationEnd': 325, 'tokenStart': 63, 'tokenEnd': 64, 'sentenceTokenStart': 11, 'sentenceTokenEnd': 12, 'method': 'allennlp_2.9.0'}, {'ID': 'ent_3_0_allen', 'sentenceID': 3, 'surfaceForm': 'Italian', 'category': 'MISC', 'locationStart': 415, 'locationEnd': 422, 'tokenStart': 83, 'tokenEnd': 84, 'sentenceTokenStart': 7, 'sentenceTokenEnd': 8, 'method': 'allennlp_2.9.0'}, {'ID': 'ent_3_1_allen', 'sentenceID': 3, 'surfaceForm': 'Raphael', 'category': 'PER', 'locationStart': 454, 'locationEnd': 461, 'tokenStart': 90, 'tokenEnd': 91, 'sentenceTokenStart': 14, 'sentenceTokenEnd': 15, 'method': 'allennlp_2.9.0'}, {'ID': 'ent_3_2_allen', 'sentenceID': 3, 'surfaceForm': 'Giovanni Bellini', 'category': 'PER', 'locationStart': 463, 'locationEnd': 479, 'tokenStart': 92, 'tokenEnd': 94, 'sentenceTokenStart': 16, 'sentenceTokenEnd': 18, 'method': 'allennlp_2.9.0'}, {'ID': 'ent_3_3_allen', 'sentenceID': 3, 'surfaceForm': 'Leonardo da Vinci', 'category': 'PER', 'locationStart': 485, 'locationEnd': 502, 'tokenStart': 96, 'tokenEnd': 99, 'sentenceTokenStart': 20, 'sentenceTokenEnd': 23, 'method': 'allennlp_2.9.0'}, {'ID': 'ent_3_4_allen', 'sentenceID': 3, 'surfaceForm': 'Maximilian I. Dürer', 'category': 'PER', 'locationStart': 544, 'locationEnd': 563, 'tokenStart': 107, 'tokenEnd': 110, 'sentenceTokenStart': 31, 'sentenceTokenEnd': 34, 'method': 'allennlp_2.9.0'}, {'ID': 'ent_4_0_allen', 'sentenceID': 4, 'surfaceForm': 'Gothic', 'category': 'MISC', 'locationStart': 746, 'locationEnd': 752, 'tokenStart': 143, 'tokenEnd': 144, 'sentenceTokenStart': 5, 'sentenceTokenEnd': 6, 'method': 'allennlp_2.9.0'}, {'ID': 'ent_5_0_allen', 'sentenceID': 5, 'surfaceForm': 'Meisterstiche', 'category': 'MISC', 'locationStart': 824, 'locationEnd': 837, 'tokenStart': 159, 'tokenEnd': 160, 'sentenceTokenStart': 8, 'sentenceTokenEnd': 9, 'method': 'allennlp_2.9.0'}, {'ID': 'ent_5_1_allen', 'sentenceID': 5, 'surfaceForm': 'Knight', 'category': 'PER', 'locationStart': 854, 'locationEnd': 860, 'tokenStart': 164, 'tokenEnd': 165, 'sentenceTokenStart': 13, 'sentenceTokenEnd': 14, 'method': 'allennlp_2.9.0'}, {'ID': 'ent_5_2_allen', 'sentenceID': 5, 'surfaceForm': 'Death and the Devil', 'category': 'MISC', 'locationStart': 862, 'locationEnd': 881, 'tokenStart': 166, 'tokenEnd': 170, 'sentenceTokenStart': 15, 'sentenceTokenEnd': 19, 'method': 'allennlp_2.9.0'}, {'ID': 'ent_5_3_allen', 'sentenceID': 5, 'surfaceForm': 'Saint Jerome', 'category': 'PER', 'locationStart': 890, 'locationEnd': 902, 'tokenStart': 174, 'tokenEnd': 176, 'sentenceTokenStart': 23, 'sentenceTokenEnd': 25, 'method': 'allennlp_2.9.0'}, {'ID': 'ent_5_4_allen', 'sentenceID': 5, 'surfaceForm': 'Study', 'category': 'MISC', 'locationStart': 910, 'locationEnd': 915, 'tokenStart': 178, 'tokenEnd': 179, 'sentenceTokenStart': 27, 'sentenceTokenEnd': 28, 'method': 'allennlp_2.9.0'}, {'ID': 'ent_5_5_allen', 'sentenceID': 5, 'surfaceForm': 'Melencolia I', 'category': 'PER', 'locationStart': 928, 'locationEnd': 940, 'tokenStart': 184, 'tokenEnd': 186, 'sentenceTokenStart': 33, 'sentenceTokenEnd': 35, 'method': 'allennlp_2.9.0'}, {'ID': 'ent_6_0_allen', 'sentenceID': 6, 'surfaceForm': 'Euro', 'category': 'MISC', 'locationStart': 995, 'locationEnd': 999, 'tokenStart': 199, 'tokenEnd': 200, 'sentenceTokenStart': 9, 'sentenceTokenEnd': 10, 'method': 'allennlp_2.9.0'}, {'ID': 'ent_0_0_flair', 'sentenceID': 0, 'surfaceForm': 'Albrecht Dürer', 'category': 'PERSON', 'locationStart': 0, 'locationEnd': 14, 'tokenStart': 0, 'tokenEnd': 2, 'sentenceTokenStart': 0, 'sentenceTokenEnd': 2, 'sentenceLocationStart': 0, 'sentenceLocationEnd': 14, 'score': 0.9980549812316895, 'method': 'flair_ner-ontonotes-large_0.12.2'}, {'ID': 'ent_0_1_flair', 'sentenceID': 0, 'surfaceForm': 'German', 'category': 'NORP', 'locationStart': 18, 'locationEnd': 24, 'tokenStart': 4, 'tokenEnd': 5, 'sentenceTokenStart': 4, 'sentenceTokenEnd': 5, 'sentenceLocationStart': 18, 'sentenceLocationEnd': 24, 'score': 0.9997419714927673, 'method': 'flair_ner-ontonotes-large_0.12.2'}, {'ID': 'ent_0_2_flair', 'sentenceID': 0, 'surfaceForm': 'Hungarian', 'category': 'NORP', 'locationStart': 46, 'locationEnd': 55, 'tokenStart': 13, 'tokenEnd': 14, 'sentenceTokenStart': 13, 'sentenceTokenEnd': 14, 'sentenceLocationStart': 46, 'sentenceLocationEnd': 55, 'score': 0.9999444484710693, 'method': 'flair_ner-ontonotes-large_0.12.2'}, {'ID': 'ent_0_3_flair', 'sentenceID': 0, 'surfaceForm': 'Ajtósi Adalbert', 'category': 'PERSON', 'locationStart': 57, 'locationEnd': 72, 'tokenStart': 15, 'tokenEnd': 17, 'sentenceTokenStart': 15, 'sentenceTokenEnd': 17, 'sentenceLocationStart': 57, 'sentenceLocationEnd': 72, 'score': 0.985921323299408, 'method': 'flair_ner-ontonotes-large_0.12.2'}, {'ID': 'ent_0_4_flair', 'sentenceID': 0, 'surfaceForm': '21 May 1471', 'category': 'DATE', 'locationStart': 74, 'locationEnd': 85, 'tokenStart': 18, 'tokenEnd': 21, 'sentenceTokenStart': 18, 'sentenceTokenEnd': 21, 'sentenceLocationStart': 74, 'sentenceLocationEnd': 85, 'score': 0.9999382893244425, 'method': 'flair_ner-ontonotes-large_0.12.2'}, {'ID': 'ent_0_5_flair', 'sentenceID': 0, 'surfaceForm': '6 April 1528', 'category': 'DATE', 'locationStart': 88, 'locationEnd': 100, 'tokenStart': 22, 'tokenEnd': 25, 'sentenceTokenStart': 22, 'sentenceTokenEnd': 25, 'sentenceLocationStart': 88, 'sentenceLocationEnd': 100, 'score': 0.9997703234354655, 'method': 'flair_ner-ontonotes-large_0.12.2'}, {'ID': 'ent_0_6_flair', 'sentenceID': 0, 'surfaceForm': 'English', 'category': 'LANGUAGE', 'locationStart': 124, 'locationEnd': 131, 'tokenStart': 30, 'tokenEnd': 31, 'sentenceTokenStart': 30, 'sentenceTokenEnd': 31, 'sentenceLocationStart': 124, 'sentenceLocationEnd': 131, 'score': 0.9999850988388062, 'method': 'flair_ner-ontonotes-large_0.12.2'}, {'ID': 'ent_0_7_flair', 'sentenceID': 0, 'surfaceForm': 'Durer', 'category': 'PERSON', 'locationStart': 135, 'locationEnd': 140, 'tokenStart': 32, 'tokenEnd': 33, 'sentenceTokenStart': 32, 'sentenceTokenEnd': 33, 'sentenceLocationStart': 135, 'sentenceLocationEnd': 140, 'score': 0.9999880790710449, 'method': 'flair_ner-ontonotes-large_0.12.2'}, {'ID': 'ent_0_8_flair', 'sentenceID': 0, 'surfaceForm': 'Duerer', 'category': 'PERSON', 'locationStart': 164, 'locationEnd': 170, 'tokenStart': 39, 'tokenEnd': 40, 'sentenceTokenStart': 39, 'sentenceTokenEnd': 40, 'sentenceLocationStart': 164, 'sentenceLocationEnd': 170, 'score': 0.9999780654907227, 'method': 'flair_ner-ontonotes-large_0.12.2'}, {'ID': 'ent_0_9_flair', 'sentenceID': 0, 'surfaceForm': 'German', 'category': 'NORP', 'locationStart': 178, 'locationEnd': 184, 'tokenStart': 43, 'tokenEnd': 44, 'sentenceTokenStart': 43, 'sentenceTokenEnd': 44, 'sentenceLocationStart': 178, 'sentenceLocationEnd': 184, 'score': 0.9999858140945435, 'method': 'flair_ner-ontonotes-large_0.12.2'}, {'ID': 'ent_0_10_flair', 'sentenceID': 0, 'surfaceForm': 'German', 'category': 'NORP', 'locationStart': 226, 'locationEnd': 232, 'tokenStart': 52, 'tokenEnd': 53, 'sentenceTokenStart': 52, 'sentenceTokenEnd': 53, 'sentenceLocationStart': 226, 'sentenceLocationEnd': 232, 'score': 0.9999706745147705, 'method': 'flair_ner-ontonotes-large_0.12.2'}, {'ID': 'ent_1_0_flair', 'sentenceID': 1, 'surfaceForm': 'Nuremberg', 'category': 'GPE', 'locationStart': 254, 'locationEnd': 263, 'tokenStart': 57, 'tokenEnd': 58, 'sentenceTokenStart': 2, 'sentenceTokenEnd': 3, 'sentenceLocationStart': 8, 'sentenceLocationEnd': 17, 'score': 0.9996825456619263, 'method': 'flair_ner-ontonotes-large_0.12.2'}, {'ID': 'ent_1_1_flair', 'sentenceID': 1, 'surfaceForm': 'Dürer', 'category': 'PERSON', 'locationStart': 265, 'locationEnd': 270, 'tokenStart': 59, 'tokenEnd': 60, 'sentenceTokenStart': 4, 'sentenceTokenEnd': 5, 'sentenceLocationStart': 19, 'sentenceLocationEnd': 24, 'score': 0.9999864101409912, 'method': 'flair_ner-ontonotes-large_0.12.2'}, {'ID': 'ent_1_2_flair', 'sentenceID': 1, 'surfaceForm': 'Europe', 'category': 'LOC', 'locationStart': 319, 'locationEnd': 325, 'tokenStart': 66, 'tokenEnd': 67, 'sentenceTokenStart': 11, 'sentenceTokenEnd': 12, 'sentenceLocationStart': 73, 'sentenceLocationEnd': 79, 'score': 0.9999806880950928, 'method': 'flair_ner-ontonotes-large_0.12.2'}, {'ID': 'ent_1_3_flair', 'sentenceID': 1, 'surfaceForm': 'his twenties', 'category': 'DATE', 'locationStart': 329, 'locationEnd': 341, 'tokenStart': 68, 'tokenEnd': 70, 'sentenceTokenStart': 13, 'sentenceTokenEnd': 15, 'sentenceLocationStart': 83, 'sentenceLocationEnd': 95, 'score': 0.8995004296302795, 'method': 'flair_ner-ontonotes-large_0.12.2'}, {'ID': 'ent_2_0_flair', 'sentenceID': 2, 'surfaceForm': 'Italian', 'category': 'NORP', 'locationStart': 415, 'locationEnd': 422, 'tokenStart': 84, 'tokenEnd': 85, 'sentenceTokenStart': 7, 'sentenceTokenEnd': 8, 'sentenceLocationStart': 33, 'sentenceLocationEnd': 40, 'score': 0.9999927282333374, 'method': 'flair_ner-ontonotes-large_0.12.2'}, {'ID': 'ent_2_1_flair', 'sentenceID': 2, 'surfaceForm': 'Raphael', 'category': 'PERSON', 'locationStart': 454, 'locationEnd': 461, 'tokenStart': 91, 'tokenEnd': 92, 'sentenceTokenStart': 14, 'sentenceTokenEnd': 15, 'sentenceLocationStart': 72, 'sentenceLocationEnd': 79, 'score': 0.9999852180480957, 'method': 'flair_ner-ontonotes-large_0.12.2'}, {'ID': 'ent_2_2_flair', 'sentenceID': 2, 'surfaceForm': 'Giovanni Bellini', 'category': 'PERSON', 'locationStart': 463, 'locationEnd': 479, 'tokenStart': 93, 'tokenEnd': 95, 'sentenceTokenStart': 16, 'sentenceTokenEnd': 18, 'sentenceLocationStart': 81, 'sentenceLocationEnd': 97, 'score': 0.999991774559021, 'method': 'flair_ner-ontonotes-large_0.12.2'}, {'ID': 'ent_2_3_flair', 'sentenceID': 2, 'surfaceForm': 'Leonardo da Vinci', 'category': 'PERSON', 'locationStart': 485, 'locationEnd': 502, 'tokenStart': 97, 'tokenEnd': 100, 'sentenceTokenStart': 20, 'sentenceTokenEnd': 23, 'sentenceLocationStart': 103, 'sentenceLocationEnd': 120, 'score': 0.9999955495198568, 'method': 'flair_ner-ontonotes-large_0.12.2'}, {'ID': 'ent_2_4_flair', 'sentenceID': 2, 'surfaceForm': '1512', 'category': 'DATE', 'locationStart': 513, 'locationEnd': 517, 'tokenStart': 103, 'tokenEnd': 104, 'sentenceTokenStart': 26, 'sentenceTokenEnd': 27, 'sentenceLocationStart': 131, 'sentenceLocationEnd': 135, 'score': 0.9999568462371826, 'method': 'flair_ner-ontonotes-large_0.12.2'}, {'ID': 'ent_2_5_flair', 'sentenceID': 2, 'surfaceForm': 'Maximilian I.', 'category': 'PERSON', 'locationStart': 544, 'locationEnd': 557, 'tokenStart': 108, 'tokenEnd': 110, 'sentenceTokenStart': 31, 'sentenceTokenEnd': 33, 'sentenceLocationStart': 162, 'sentenceLocationEnd': 175, 'score': 0.9994268715381622, 'method': 'flair_ner-ontonotes-large_0.12.2'}, {'ID': 'ent_2_6_flair', 'sentenceID': 2, 'surfaceForm': 'Dürer', 'category': 'PERSON', 'locationStart': 558, 'locationEnd': 563, 'tokenStart': 110, 'tokenEnd': 111, 'sentenceTokenStart': 33, 'sentenceTokenEnd': 34, 'sentenceLocationStart': 176, 'sentenceLocationEnd': 181, 'score': 0.9999651908874512, 'method': 'flair_ner-ontonotes-large_0.12.2'}, {'ID': 'ent_3_0_flair', 'sentenceID': 3, 'surfaceForm': 'Gothic', 'category': 'NORP', 'locationStart': 746, 'locationEnd': 752, 'tokenStart': 142, 'tokenEnd': 143, 'sentenceTokenStart': 5, 'sentenceTokenEnd': 6, 'sentenceLocationStart': 29, 'sentenceLocationEnd': 35, 'score': 0.9967536330223083, 'method': 'flair_ner-ontonotes-large_0.12.2'}, {'ID': 'ent_4_0_flair', 'sentenceID': 4, 'surfaceForm': 'three', 'category': 'CARDINAL', 'locationStart': 818, 'locationEnd': 823, 'tokenStart': 155, 'tokenEnd': 156, 'sentenceTokenStart': 5, 'sentenceTokenEnd': 6, 'sentenceLocationStart': 38, 'sentenceLocationEnd': 43, 'score': 0.9999874830245972, 'method': 'flair_ner-ontonotes-large_0.12.2'}, {'ID': 'ent_4_1_flair', 'sentenceID': 4, 'surfaceForm': 'Knight, Death and the Devil', 'category': 'WORK_OF_ART', 'locationStart': 854, 'locationEnd': 881, 'tokenStart': 161, 'tokenEnd': 167, 'sentenceTokenStart': 11, 'sentenceTokenEnd': 17, 'sentenceLocationStart': 74, 'sentenceLocationEnd': 101, 'score': 0.9999721844991049, 'method': 'flair_ner-ontonotes-large_0.12.2'}, {'ID': 'ent_4_2_flair', 'sentenceID': 4, 'surfaceForm': '1513', 'category': 'DATE', 'locationStart': 883, 'locationEnd': 887, 'tokenStart': 168, 'tokenEnd': 169, 'sentenceTokenStart': 18, 'sentenceTokenEnd': 19, 'sentenceLocationStart': 103, 'sentenceLocationEnd': 107, 'score': 0.9823664426803589, 'method': 'flair_ner-ontonotes-large_0.12.2'}, {'ID': 'ent_4_3_flair', 'sentenceID': 4, 'surfaceForm': 'Saint Jerome in his Study', 'category': 'WORK_OF_ART', 'locationStart': 890, 'locationEnd': 915, 'tokenStart': 171, 'tokenEnd': 176, 'sentenceTokenStart': 21, 'sentenceTokenEnd': 26, 'sentenceLocationStart': 110, 'sentenceLocationEnd': 135, 'score': 0.9999872922897339, 'method': 'flair_ner-ontonotes-large_0.12.2'}, {'ID': 'ent_4_4_flair', 'sentenceID': 4, 'surfaceForm': '1514', 'category': 'DATE', 'locationStart': 917, 'locationEnd': 921, 'tokenStart': 177, 'tokenEnd': 178, 'sentenceTokenStart': 27, 'sentenceTokenEnd': 28, 'sentenceLocationStart': 137, 'sentenceLocationEnd': 141, 'score': 0.9722434878349304, 'method': 'flair_ner-ontonotes-large_0.12.2'}, {'ID': 'ent_4_5_flair', 'sentenceID': 4, 'surfaceForm': 'Melencolia I', 'category': 'WORK_OF_ART', 'locationStart': 928, 'locationEnd': 940, 'tokenStart': 181, 'tokenEnd': 183, 'sentenceTokenStart': 31, 'sentenceTokenEnd': 33, 'sentenceLocationStart': 148, 'sentenceLocationEnd': 160, 'score': 0.99998539686203, 'method': 'flair_ner-ontonotes-large_0.12.2'}, {'ID': 'ent_4_6_flair', 'sentenceID': 4, 'surfaceForm': '1514', 'category': 'DATE', 'locationStart': 942, 'locationEnd': 946, 'tokenStart': 184, 'tokenEnd': 185, 'sentenceTokenStart': 34, 'sentenceTokenEnd': 35, 'sentenceLocationStart': 162, 'sentenceLocationEnd': 166, 'score': 0.9719707369804382, 'method': 'flair_ner-ontonotes-large_0.12.2'}, {'ID': 'ent_5_0_flair', 'sentenceID': 5, 'surfaceForm': 'one', 'category': 'CARDINAL', 'locationStart': 978, 'locationEnd': 981, 'tokenStart': 192, 'tokenEnd': 193, 'sentenceTokenStart': 5, 'sentenceTokenEnd': 6, 'sentenceLocationStart': 29, 'sentenceLocationEnd': 32, 'score': 0.9999772310256958, 'method': 'flair_ner-ontonotes-large_0.12.2'}, {'ID': 'ent_5_1_flair', 'sentenceID': 5, 'surfaceForm': 'first', 'category': 'ORDINAL', 'locationStart': 989, 'locationEnd': 994, 'tokenStart': 195, 'tokenEnd': 196, 'sentenceTokenStart': 8, 'sentenceTokenEnd': 9, 'sentenceLocationStart': 40, 'sentenceLocationEnd': 45, 'score': 0.9999675750732422, 'method': 'flair_ner-ontonotes-large_0.12.2'}]\n",
      "True\n"
     ]
    }
   ],
   "source": [
    "from utils.nlp_common import create_nlp_template, add_morphosyntax, run_spacy, preprocess_and_clean_text\n",
    "import spacy\n",
    "from spacy import __version__ as spacy_version\n",
    "\n",
    "\n",
    "with open(text_filename) as f:\n",
    "    text = f.read()\n",
    "    text = text[:5000]\n",
    "    text = preprocess_and_clean_text(text)\n",
    "    nlp_dict, is_from_file = create_nlp_template(text, filepath=json_nlp_filename)\n",
    "\n",
    "# NLP Basic processing using SpaCy (Only if file did not exist already)\n",
    "if not is_from_file:\n",
    "    spacy_model = \"en_core_web_sm\"\n",
    "    nlp = spacy.load(spacy_model)\n",
    "    spacy_dict = run_spacy(text, nlp)\n",
    "    nlp_dict['tokenization'] = {f'spacy_{spacy_model}_{spacy_version}': spacy_dict['tokens']}\n",
    "    nlp_dict['morphology'] = {f'spacy_{spacy_model}_{spacy_version}': add_morphosyntax(spacy_dict['token_objs'])}\n",
    "else:\n",
    "    text = nlp_dict['text']\n",
    "\n",
    "print(text[:100])\n",
    "print(nlp_dict.keys())\n",
    "print(nlp_dict[\"entities\"])\n",
    "print(is_from_file)"
   ]
  },
  {
   "cell_type": "code",
   "execution_count": null,
   "metadata": {},
   "outputs": [],
   "source": [
    "## Load Flair Libraries\n",
    "from flair import __version__ as flair_version\n",
    "from flair.splitter import SegtokSentenceSplitter\n",
    "from utils.nlp_flair import run_flair, add_morphosyntax_flair\n",
    "\n",
    "splitter = SegtokSentenceSplitter()\n",
    "flair_models = {\n",
    "    \"chunker\": \"chunk\",\n",
    "    \"ner\": 'ner-ontonotes-large', # \n",
    "    \"relations\": \"relations\", # If relations is provided then is not necessary to do NER sepparately!\n",
    "    \"frames\": \"frame\",\n",
    "    \"linker\": \"linker\"\n",
    "}\n",
    "\n",
    "morpho, tokenized_doc = add_morphosyntax_flair(text, splitter)\n",
    "\n",
    "nlp_dict['tokenization'][f\"flair_{flair_version}\"] = tokenized_doc\n",
    "nlp_dict['morphology'][f\"flair_{flair_version}\"] = morpho"
   ]
  },
  {
   "attachments": {},
   "cell_type": "markdown",
   "metadata": {},
   "source": [
    "### Find Named Entities & Relations (Flair)"
   ]
  },
  {
   "cell_type": "code",
   "execution_count": null,
   "metadata": {},
   "outputs": [],
   "source": [
    "sentences = splitter.split(text)\n",
    "\n",
    "if 'entities' not in nlp_dict: nlp_dict['entities'] = []\n",
    "if 'relations' not in nlp_dict: nlp_dict['relations'] = []\n",
    "\n",
    "ent_rel_out = run_flair(sentences, \"relations\", flair_models)\n",
    "nlp_dict['entities'] = ent_rel_out[\"tagged_entities\"]\n",
    "nlp_dict['relations'] = ent_rel_out[\"tagged_relations\"]"
   ]
  },
  {
   "attachments": {},
   "cell_type": "markdown",
   "metadata": {},
   "source": [
    "### Find Linked Entities (Flair)"
   ]
  },
  {
   "cell_type": "code",
   "execution_count": null,
   "metadata": {},
   "outputs": [],
   "source": [
    "# Must restart the sentence to erase previous tags\n",
    "sentences = splitter.split(text)\n",
    "if 'linked_entities' not in nlp_dict: nlp_dict['linked_entities'] = []\n",
    "nlp_dict['linked_entities'] = run_flair(sentences, \"linker\", flair_models, metadata={\"entity_ids\":ent_rel_out[\"entity_ids\"]})[\"tagged_entities\"]"
   ]
  },
  {
   "attachments": {},
   "cell_type": "markdown",
   "metadata": {},
   "source": [
    "### Find Predicate Senses & Merge with SRL"
   ]
  },
  {
   "cell_type": "code",
   "execution_count": null,
   "metadata": {},
   "outputs": [],
   "source": [
    "frames_flair = run_flair(sentences, \"frames\", flair_models)[\"tagged_entities\"]\n",
    "\n",
    "for fr in frames_flair:\n",
    "    print(fr[\"locationStart\"],fr[\"locationEnd\"],fr[\"predicateSense\"])"
   ]
  },
  {
   "attachments": {},
   "cell_type": "markdown",
   "metadata": {},
   "source": [
    "### Save File Appending the new Annotations"
   ]
  },
  {
   "cell_type": "code",
   "execution_count": null,
   "metadata": {},
   "outputs": [],
   "source": [
    "import json\n",
    "\n",
    "intavia_dict = {\n",
    "            'status': '200',\n",
    "            'data': nlp_dict\n",
    "        }\n",
    "\n",
    "json.dump(intavia_dict, open(json_nlp_filename, \"w\"), indent=2, ensure_ascii=False)"
   ]
  }
 ],
 "metadata": {
  "kernelspec": {
   "display_name": "nlp",
   "language": "python",
   "name": "python3"
  },
  "language_info": {
   "codemirror_mode": {
    "name": "ipython",
    "version": 3
   },
   "file_extension": ".py",
   "mimetype": "text/x-python",
   "name": "python",
   "nbconvert_exporter": "python",
   "pygments_lexer": "ipython3",
   "version": "3.8.12"
  },
  "orig_nbformat": 4
 },
 "nbformat": 4,
 "nbformat_minor": 2
}

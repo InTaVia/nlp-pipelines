{
 "cells": [
  {
   "attachments": {},
   "cell_type": "markdown",
   "metadata": {},
   "source": [
    "# Get Available Art Movements in Wikidata"
   ]
  },
  {
   "cell_type": "code",
   "execution_count": 1,
   "metadata": {},
   "outputs": [
    {
     "name": "stdout",
     "output_type": "stream",
     "text": [
      "Found 801 movements!\n",
      "   category_name                            category_id\n",
      "0    Renaissance   http://www.wikidata.org/entity/Q4692\n",
      "1           Dada   http://www.wikidata.org/entity/Q6034\n",
      "2  neoclassicism  http://www.wikidata.org/entity/Q14378\n",
      "3     street art  http://www.wikidata.org/entity/Q17516\n",
      "4    Art Nouveau  http://www.wikidata.org/entity/Q34636\n"
     ]
    }
   ],
   "source": [
    "from utils.wikidata_querier import get_all_instaces_of_category\n",
    "import pandas as pd\n",
    "\n",
    "category_id = \"wd:Q968159\" # Art movement\n",
    "movements = get_all_instaces_of_category(category_id)\n",
    "df_mov = pd.DataFrame(movements)\n",
    "print(f\"Found {len(movements)} movements!\")\n",
    "print(df_mov.head(5))"
   ]
  },
  {
   "attachments": {},
   "cell_type": "markdown",
   "metadata": {},
   "source": [
    "# Get All People involved with the Art Nouveau Movement"
   ]
  },
  {
   "cell_type": "code",
   "execution_count": 4,
   "metadata": {},
   "outputs": [
    {
     "name": "stdout",
     "output_type": "stream",
     "text": [
      "Found 122 people involved with Art Nouveau!\n",
      "                  person date_of_birth date_of_death  \\\n",
      "0      Adolfo Hohenstein    1854-03-18    1928-04-13   \n",
      "1            Otto Wagner    1841-07-13    1918-04-11   \n",
      "2         Hede von Trapp    1877-11-18    1947-12-29   \n",
      "3  Charles l'Eplattenier    1874-10-09    1946-06-07   \n",
      "4      Ludwig Fahrenkrog    1867-10-20    1952-10-27   \n",
      "\n",
      "                                           wiki_page  \n",
      "0    https://en.wikipedia.org/wiki/Adolfo_Hohenstein  \n",
      "1          https://en.wikipedia.org/wiki/Otto_Wagner  \n",
      "2       https://en.wikipedia.org/wiki/Hede_von_Trapp  \n",
      "3  https://en.wikipedia.org/wiki/Charles_L%27%C3%...  \n",
      "4    https://en.wikipedia.org/wiki/Ludwig_Fahrenkrog  \n"
     ]
    }
   ],
   "source": [
    "from utils.wikidata_querier import get_wiki_persons_from_movement\n",
    "movement_label = \"Art Nouveau\"\n",
    "movement_id=\"wd:Q34636\"\n",
    "people_all, people_essential = get_wiki_persons_from_movement(movement_id)\n",
    "df_per = pd.DataFrame(people_essential)\n",
    "print(f\"Found {len(people_essential)} people involved with {movement_label}!\")\n",
    "print(df_per.head())"
   ]
  },
  {
   "attachments": {},
   "cell_type": "markdown",
   "metadata": {},
   "source": [
    "# Get the Wikipedia Biographies of each participant involved in the movement"
   ]
  },
  {
   "cell_type": "code",
   "execution_count": 5,
   "metadata": {},
   "outputs": [
    {
     "name": "stdout",
     "output_type": "stream",
     "text": [
      "Options: {'Adolfo Hohenstein', 'La bohème', 'Hohenstein'}\n",
      "Ordered Options Compund Metric: [RankedArticle(wikipage_title='Adolfo Hohenstein', queried_name='Adolfo Hohenstein', lev_similarity=1.0, token_overlap=1.0, dates_confidence=-1), RankedArticle(wikipage_title='Hohenstein', queried_name='Adolfo Hohenstein', lev_similarity=0.7407407407407407, token_overlap=0.5, dates_confidence=-1)]\n",
      "\n",
      "Retrieving page for Adolfo Hohenstein\n",
      "Wiki Life Data = (1854 - 1928)\n",
      "Page Chosen! Confidence Score = 1\n",
      "Options: {'Otto Wagner', 'Otto-Wagner-Spital', 'Vienna Secession'}\n",
      "Ordered Options Compund Metric: [RankedArticle(wikipage_title='Otto Wagner', queried_name='Otto Wagner', lev_similarity=1.0, token_overlap=1.0, dates_confidence=-1)]\n",
      "\n",
      "Retrieving page for Otto Wagner\n",
      "Wiki Life Data = (1841 - 1918)\n",
      "Page Chosen! Confidence Score = 1\n",
      "Options: {'Hede von Trapp', 'Trapp', 'Georg von Trapp'}\n",
      "Ordered Options Compund Metric: [RankedArticle(wikipage_title='Hede von Trapp', queried_name='Hede von Trapp', lev_similarity=1.0, token_overlap=1.0, dates_confidence=-1), RankedArticle(wikipage_title='Georg von Trapp', queried_name='Hede von Trapp', lev_similarity=0.7586206896551724, token_overlap=0.6666666666666666, dates_confidence=-1), RankedArticle(wikipage_title='Trapp', queried_name='Hede von Trapp', lev_similarity=0.5263157894736843, token_overlap=0.3333333333333333, dates_confidence=-1)]\n",
      "\n",
      "Retrieving page for Hede von Trapp\n",
      "Wiki Life Data = (1877 - 1947)\n",
      "Page Chosen! Confidence Score = 1\n",
      "Options: set()\n",
      "Options: {'Esotericism in Germany and Austria', 'Fahrenkrog', 'Ludwig Fahrenkrog'}\n",
      "Ordered Options Compund Metric: [RankedArticle(wikipage_title='Ludwig Fahrenkrog', queried_name='Ludwig Fahrenkrog', lev_similarity=1.0, token_overlap=1.0, dates_confidence=-1), RankedArticle(wikipage_title='Fahrenkrog', queried_name='Ludwig Fahrenkrog', lev_similarity=0.7407407407407407, token_overlap=0.5, dates_confidence=-1)]\n",
      "\n",
      "Retrieving page for Ludwig Fahrenkrog\n",
      "Wiki Life Data = (1867 - 1952)\n",
      "Page Chosen! Confidence Score = 1\n",
      "Options: {'Jesse DuMond', 'Frank DuMond', 'Monkey Jungle'}\n",
      "Ordered Options Compund Metric: [RankedArticle(wikipage_title='Frank DuMond', queried_name='Frank DuMond', lev_similarity=1.0, token_overlap=1.0, dates_confidence=-1), RankedArticle(wikipage_title='Jesse DuMond', queried_name='Frank DuMond', lev_similarity=0.5833333333333333, token_overlap=0.5, dates_confidence=-1)]\n",
      "\n",
      "Retrieving page for Frank DuMond\n",
      "Wiki Life Data = (1865 - 1951)\n",
      "Page Chosen! Confidence Score = 1\n"
     ]
    }
   ],
   "source": [
    "import os, time\n",
    "from utils.utils_wiki import get_wikipedia_article, save_wikipedia_page\n",
    "\n",
    "output_dir = f\"data/wikipedia/{movement_label.replace(' ','_')}\"\n",
    "if not os.path.exists(output_dir): os.mkdir(output_dir)\n",
    "\n",
    "stop = 0\n",
    "for wiki_url in df_per[\"wiki_page\"]:\n",
    "    page = get_wikipedia_article(query_url=wiki_url)\n",
    "    if page:\n",
    "        save_wikipedia_page(page, output_path=f\"{output_dir}/{page.title.replace(' ', '_').lower()}.txt\", include_metadata=True, include_sections=True, include_infobox=True)\n",
    "        time.sleep(5)\n",
    "        stop += 1\n",
    "    if stop == 5: break"
   ]
  },
  {
   "cell_type": "code",
   "execution_count": null,
   "metadata": {},
   "outputs": [],
   "source": [
    "! python en_text_to_json_flair.py 'data/wikipedia/Art_Nouveau'"
   ]
  },
  {
   "cell_type": "code",
   "execution_count": 17,
   "metadata": {},
   "outputs": [
    {
     "data": {
      "text/plain": [
       "'http://www.wikidata.org/entity/Q937'"
      ]
     },
     "execution_count": 17,
     "metadata": {},
     "output_type": "execute_result"
    }
   ],
   "source": [
    "import requests\n",
    "def get_wikidata_id_from_wikipedia_url(wiki_url: str):\n",
    "    url = 'https://query.wikidata.org/sparql'\n",
    "    query = f\"\"\"\n",
    "    SELECT ?wikidataID\n",
    "    WHERE {{\n",
    "    <{wiki_url}> schema:about ?wikidataID .\n",
    "    }}\n",
    "    \"\"\"\n",
    "    wikidata_id = None\n",
    "    # Call API\n",
    "    try:\n",
    "        r = requests.get(url, params={'format': 'json', 'query': query}, timeout=3)\n",
    "        data = r.json() if r.status_code == 200 else None\n",
    "    except:\n",
    "        print(\"Failed to query Wikidata\")\n",
    "        data = None\n",
    "    \n",
    "    if data:\n",
    "        # Feed data from Wikidata Response\n",
    "        for item in data[\"results\"][\"bindings\"]:\n",
    "            wikidata_id = item[\"wikidataID\"][\"value\"]\n",
    "    \n",
    "    return wikidata_id\n",
    "\n",
    "get_wikidata_id_from_wikipedia_url(\"https://en.wikipedia.org/wiki/Albert_Einstein\")"
   ]
  }
 ],
 "metadata": {
  "kernelspec": {
   "display_name": "test_pipelines",
   "language": "python",
   "name": "python3"
  },
  "language_info": {
   "codemirror_mode": {
    "name": "ipython",
    "version": 3
   },
   "file_extension": ".py",
   "mimetype": "text/x-python",
   "name": "python",
   "nbconvert_exporter": "python",
   "pygments_lexer": "ipython3",
   "version": "3.10.11"
  },
  "orig_nbformat": 4
 },
 "nbformat": 4,
 "nbformat_minor": 2
}

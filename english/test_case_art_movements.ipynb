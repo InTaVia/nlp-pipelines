{
 "cells": [
  {
   "attachments": {},
   "cell_type": "markdown",
   "metadata": {},
   "source": [
    "# Get Available Art Movements in Wikidata"
   ]
  },
  {
   "cell_type": "code",
   "execution_count": null,
   "metadata": {},
   "outputs": [],
   "source": [
    "from utils.wikidata_querier import get_all_instaces_of_category\n",
    "import pandas as pd\n",
    "\n",
    "category_id = \"wd:Q968159\" # Art movement\n",
    "movements = get_all_instaces_of_category(category_id)\n",
    "df_mov = pd.DataFrame(movements)\n",
    "print(f\"Found {len(movements)} movements!\")\n",
    "print(df_mov.head(5))"
   ]
  },
  {
   "attachments": {},
   "cell_type": "markdown",
   "metadata": {},
   "source": [
    "# Get All People involved with the Art Nouveau Movement"
   ]
  },
  {
   "cell_type": "code",
   "execution_count": null,
   "metadata": {},
   "outputs": [],
   "source": [
    "from utils.wikidata_querier import get_wiki_persons_from_movement\n",
    "movement_label = \"Art Nouveau\"\n",
    "movement_id=\"wd:Q34636\"\n",
    "people_all, people_essential = get_wiki_persons_from_movement(movement_id)\n",
    "df_per = pd.DataFrame(people_essential)\n",
    "print(f\"Found {len(people_essential)} people involved with {movement_label}!\")\n",
    "print(df_per.head())"
   ]
  },
  {
   "attachments": {},
   "cell_type": "markdown",
   "metadata": {},
   "source": [
    "# Get the Wikipedia Biographies of each participant involved in the movement"
   ]
  },
  {
   "cell_type": "code",
   "execution_count": null,
   "metadata": {},
   "outputs": [],
   "source": [
    "import os, time\n",
    "from utils.utils_wiki import get_wikipedia_article, save_wikipedia_page\n",
    "\n",
    "output_dir = f\"data/wikipedia/{movement_label.replace(' ','_')}\"\n",
    "if not os.path.exists(output_dir): os.mkdir(output_dir)\n",
    "\n",
    "stop = 0\n",
    "for wiki_url in df_per[\"wiki_page\"]:\n",
    "    page = get_wikipedia_article(query_url=wiki_url)\n",
    "    if page:\n",
    "        save_wikipedia_page(page, output_path=f\"{output_dir}/{page.title.replace(' ', '_').lower()}.txt\", include_metadata=True, include_sections=True, include_infobox=True)\n",
    "        time.sleep(5)\n",
    "        stop += 1\n",
    "    if stop == 5: break"
   ]
  },
  {
   "cell_type": "code",
   "execution_count": null,
   "metadata": {},
   "outputs": [],
   "source": [
    "! python en_text_to_json_flair.py 'data/wikipedia/Art_Nouveau'"
   ]
  }
 ],
 "metadata": {
  "kernelspec": {
   "display_name": "test_pipelines",
   "language": "python",
   "name": "python3"
  },
  "language_info": {
   "codemirror_mode": {
    "name": "ipython",
    "version": 3
   },
   "file_extension": ".py",
   "mimetype": "text/x-python",
   "name": "python",
   "nbconvert_exporter": "python",
   "pygments_lexer": "ipython3",
   "version": "3.10.11"
  },
  "orig_nbformat": 4
 },
 "nbformat": 4,
 "nbformat_minor": 2
}

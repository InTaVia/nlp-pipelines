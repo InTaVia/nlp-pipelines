{
 "cells": [
  {
   "attachments": {},
   "cell_type": "markdown",
   "metadata": {},
   "source": [
    "# Get Available Art Movements in Wikidata"
   ]
  },
  {
   "cell_type": "code",
   "execution_count": 18,
   "metadata": {},
   "outputs": [
    {
     "name": "stdout",
     "output_type": "stream",
     "text": [
      "Found 801 movements!\n",
      "   category_name                            category_id\n",
      "0    Renaissance   http://www.wikidata.org/entity/Q4692\n",
      "1           Dada   http://www.wikidata.org/entity/Q6034\n",
      "2  neoclassicism  http://www.wikidata.org/entity/Q14378\n",
      "3     street art  http://www.wikidata.org/entity/Q17516\n",
      "4    Art Nouveau  http://www.wikidata.org/entity/Q34636\n"
     ]
    }
   ],
   "source": [
    "from utils.wikidata_querier import get_all_instaces_of_category\n",
    "import pandas as pd\n",
    "\n",
    "category_id = \"wd:Q968159\" # Art movement\n",
    "movements = get_all_instaces_of_category(category_id)\n",
    "df_mov = pd.DataFrame(movements)\n",
    "print(f\"Found {len(movements)} movements!\")\n",
    "print(df_mov.head(5))"
   ]
  },
  {
   "attachments": {},
   "cell_type": "markdown",
   "metadata": {},
   "source": [
    "# Get All People involved with the Art Nouveau Movement"
   ]
  },
  {
   "cell_type": "code",
   "execution_count": 20,
   "metadata": {},
   "outputs": [
    {
     "name": "stdout",
     "output_type": "stream",
     "text": [
      "Found 122 people involved with Art Nouveau!\n",
      "                  person date_of_birth date_of_death  \\\n",
      "0      Adolfo Hohenstein    1854-03-18    1928-04-13   \n",
      "1            Otto Wagner    1841-07-13    1918-04-11   \n",
      "2         Hede von Trapp    1877-11-18    1947-12-29   \n",
      "3  Charles l'Eplattenier    1874-10-09    1946-06-07   \n",
      "4      Ludwig Fahrenkrog    1867-10-20    1952-10-27   \n",
      "\n",
      "                                           wiki_page  \n",
      "0    https://en.wikipedia.org/wiki/Adolfo_Hohenstein  \n",
      "1          https://en.wikipedia.org/wiki/Otto_Wagner  \n",
      "2       https://en.wikipedia.org/wiki/Hede_von_Trapp  \n",
      "3  https://en.wikipedia.org/wiki/Charles_L%27%C3%...  \n",
      "4    https://en.wikipedia.org/wiki/Ludwig_Fahrenkrog  \n"
     ]
    }
   ],
   "source": [
    "from utils.wikidata_querier import get_wiki_persons_from_movement\n",
    "movement_label = \"Art Nouveau\"\n",
    "movement_id=\"wd:Q34636\"\n",
    "people_all, people_essential = get_wiki_persons_from_movement(movement_id)\n",
    "df_per = pd.DataFrame(people_essential)\n",
    "print(f\"Found {len(people_essential)} people involved with {movement_label}!\")\n",
    "print(df_per.head())"
   ]
  },
  {
   "attachments": {},
   "cell_type": "markdown",
   "metadata": {},
   "source": [
    "# Get the Wikipedia Biographies of each participant involved in the movement"
   ]
  },
  {
   "cell_type": "code",
   "execution_count": 21,
   "metadata": {},
   "outputs": [
    {
     "name": "stdout",
     "output_type": "stream",
     "text": [
      "Options: {'Adolfo Hohenstein', 'La bohème', 'Hohenstein'}\n",
      "Ordered Options Compund Metric: [RankedArticle(wikipage_title='Adolfo Hohenstein', queried_name='Adolfo Hohenstein', lev_similarity=1.0, token_overlap=1.0, dates_confidence=-1), RankedArticle(wikipage_title='Hohenstein', queried_name='Adolfo Hohenstein', lev_similarity=0.7407407407407407, token_overlap=0.5, dates_confidence=-1)]\n",
      "\n",
      "Retrieving page for Adolfo Hohenstein\n",
      "Wiki Life Data = (1854 - 1928)\n",
      "Page Chosen! Confidence Score = 1\n",
      "Options: {'Vienna Secession', 'Otto Wagner', 'Art Nouveau'}\n",
      "Ordered Options Compund Metric: [RankedArticle(wikipage_title='Otto Wagner', queried_name='Otto Wagner', lev_similarity=1.0, token_overlap=1.0, dates_confidence=-1)]\n",
      "\n",
      "Retrieving page for Otto Wagner\n",
      "Wiki Life Data = (1841 - 1918)\n",
      "Page Chosen! Confidence Score = 1\n",
      "Options: {'Trapp', 'Hede von Trapp', 'Georg von Trapp'}\n",
      "Ordered Options Compund Metric: [RankedArticle(wikipage_title='Hede von Trapp', queried_name='Hede von Trapp', lev_similarity=1.0, token_overlap=1.0, dates_confidence=-1), RankedArticle(wikipage_title='Georg von Trapp', queried_name='Hede von Trapp', lev_similarity=0.7586206896551724, token_overlap=0.6666666666666666, dates_confidence=-1), RankedArticle(wikipage_title='Trapp', queried_name='Hede von Trapp', lev_similarity=0.5263157894736843, token_overlap=0.3333333333333333, dates_confidence=-1)]\n",
      "\n",
      "Retrieving page for Hede von Trapp\n",
      "Wiki Life Data = (1877 - 1947)\n",
      "Page Chosen! Confidence Score = 1\n",
      "Options: set()\n",
      "Options: {'Fahrenkrog', 'Ludwig Fahrenkrog', 'Esotericism in Germany and Austria'}\n",
      "Ordered Options Compund Metric: [RankedArticle(wikipage_title='Ludwig Fahrenkrog', queried_name='Ludwig Fahrenkrog', lev_similarity=1.0, token_overlap=1.0, dates_confidence=-1), RankedArticle(wikipage_title='Fahrenkrog', queried_name='Ludwig Fahrenkrog', lev_similarity=0.7407407407407407, token_overlap=0.5, dates_confidence=-1)]\n",
      "\n",
      "Retrieving page for Ludwig Fahrenkrog\n",
      "Wiki Life Data = (1867 - 1952)\n",
      "Page Chosen! Confidence Score = 1\n",
      "Options: {'The Seasons (Mucha)', 'Art Nouveau', 'Alphonse Mucha'}\n",
      "Ordered Options Compund Metric: [RankedArticle(wikipage_title='Alphonse Mucha', queried_name='Alphonse Mucha', lev_similarity=1.0, token_overlap=1.0, dates_confidence=-1)]\n",
      "\n",
      "Retrieving page for Alphonse Mucha\n",
      "Wiki Life Data = (1860 - 1939)\n",
      "Page Chosen! Confidence Score = 1\n"
     ]
    }
   ],
   "source": [
    "import os, time\n",
    "from utils.utils_wiki import get_wikipedia_article, save_wikipedia_page\n",
    "\n",
    "output_dir = f\"data/wikipedia/{movement_label.replace(' ','_')}\"\n",
    "if not os.path.exists(output_dir): os.mkdir(output_dir)\n",
    "\n",
    "stop = 0\n",
    "for wiki_url in df_per[\"wiki_page\"]:\n",
    "    page = get_wikipedia_article(query_url=wiki_url)\n",
    "    if page:\n",
    "        save_wikipedia_page(page, output_path=f\"{output_dir}/{page.title.replace(' ', '_').lower()}.txt\", include_metadata=True, include_sections=True, include_infobox=True)\n",
    "        time.sleep(5)\n",
    "        stop += 1\n",
    "    if stop == 5: break"
   ]
  },
  {
   "cell_type": "code",
   "execution_count": 22,
   "metadata": {},
   "outputs": [
    {
     "name": "stdout",
     "output_type": "stream",
     "text": [
      "2023-08-25 10:30:40,599 SequenceTagger predicts: Dictionary with 76 tags: <unk>, O, B-CARDINAL, E-CARDINAL, S-PERSON, S-CARDINAL, S-PRODUCT, B-PRODUCT, I-PRODUCT, E-PRODUCT, B-WORK_OF_ART, I-WORK_OF_ART, E-WORK_OF_ART, B-PERSON, E-PERSON, S-GPE, B-DATE, I-DATE, E-DATE, S-ORDINAL, S-LANGUAGE, I-PERSON, S-EVENT, S-DATE, B-QUANTITY, E-QUANTITY, S-TIME, B-TIME, I-TIME, E-TIME, B-GPE, E-GPE, S-ORG, I-GPE, S-NORP, B-FAC, I-FAC, E-FAC, B-NORP, E-NORP, S-PERCENT, B-ORG, E-ORG, B-LANGUAGE, E-LANGUAGE, I-CARDINAL, I-ORG, S-WORK_OF_ART, I-QUANTITY, B-MONEY\n",
      "2023-08-25 10:30:45,878 SequenceTagger predicts: Dictionary with 4852 tags: <unk>, be.01, be.03, have.01, say.01, do.01, have.03, do.02, be.02, know.01, think.01, come.01, see.01, want.01, go.02, tell.01, give.01, use.01, make.02, take.01, talk.01, get.01, go.04, live.01, need.01, believe.01, work.01, mean.01, have.02, look.01, become.01, die.01, help.01, find.01, try.01, hear.01, know.06, show.01, happen.01, let.01, sell.01, bring.01, make.01, invest.01, begin.01, make.LV, continue.01, kill.01, speak.01, start.01\n",
      "2023-08-25 10:31:11,284 SequenceTagger predicts: Dictionary with 20 tags: <unk>, O, S-ORG, S-MISC, B-PER, E-PER, S-LOC, B-ORG, E-ORG, I-PER, S-PER, B-MISC, I-MISC, E-MISC, I-ORG, B-LOC, E-LOC, I-LOC, <START>, <STOP>\n",
      "1 data/wikipedia/Art_Nouveau/alphonse_mucha.txt alphonse_mucha\n",
      "2023-08-25 10:31:17,970 Warning: An empty Sentence was created! Are there empty strings in your dataset?\n",
      "frames\n",
      "100%|██████████████████████████████████████| 213/213 [00:00<00:00, 16796.77it/s]\n",
      "relations\n",
      "100%|██████████████████████████████████████| 213/213 [00:00<00:00, 19996.57it/s]\n",
      "2023-08-25 10:33:44,240 Warning: An empty Sentence was created! Are there empty strings in your dataset?\n",
      "linker\n",
      "100%|██████████████████████████████████████| 213/213 [00:00<00:00, 35218.46it/s]\n",
      "2 data/wikipedia/Art_Nouveau/adolfo_hohenstein.txt adolfo_hohenstein\n",
      "frames\n",
      "100%|████████████████████████████████████████| 23/23 [00:00<00:00, 14741.59it/s]\n",
      "relations\n",
      "100%|█████████████████████████████████████████| 23/23 [00:00<00:00, 3758.78it/s]\n",
      "linker\n",
      "100%|████████████████████████████████████████| 23/23 [00:00<00:00, 11989.68it/s]\n",
      "3 data/wikipedia/Art_Nouveau/otto_wagner.txt otto_wagner\n",
      "2023-08-25 10:36:02,359 Warning: An empty Sentence was created! Are there empty strings in your dataset?\n",
      "frames\n",
      "100%|██████████████████████████████████████| 147/147 [00:00<00:00, 21251.99it/s]\n",
      "relations\n",
      "100%|██████████████████████████████████████| 147/147 [00:00<00:00, 23037.02it/s]\n",
      "2023-08-25 10:37:31,418 Warning: An empty Sentence was created! Are there empty strings in your dataset?\n",
      "linker\n",
      "100%|██████████████████████████████████████| 147/147 [00:00<00:00, 50290.59it/s]\n",
      "4 data/wikipedia/Art_Nouveau/ludwig_fahrenkrog.txt ludwig_fahrenkrog\n",
      "2023-08-25 10:37:54,604 Warning: An empty Sentence was created! Are there empty strings in your dataset?\n",
      "frames\n",
      "100%|████████████████████████████████████████| 29/29 [00:00<00:00, 19675.64it/s]\n",
      "relations\n",
      "100%|████████████████████████████████████████| 29/29 [00:00<00:00, 16346.57it/s]\n",
      "2023-08-25 10:38:20,297 Warning: An empty Sentence was created! Are there empty strings in your dataset?\n",
      "linker\n",
      "100%|████████████████████████████████████████| 29/29 [00:00<00:00, 41246.12it/s]\n",
      "5 data/wikipedia/Art_Nouveau/hede_von_trapp.txt hede_von_trapp\n",
      "2023-08-25 10:38:29,787 Warning: An empty Sentence was created! Are there empty strings in your dataset?\n",
      "frames\n",
      "100%|████████████████████████████████████████| 12/12 [00:00<00:00, 26214.40it/s]\n",
      "relations\n",
      "100%|████████████████████████████████████████| 12/12 [00:00<00:00, 19668.48it/s]\n",
      "2023-08-25 10:38:38,997 Warning: An empty Sentence was created! Are there empty strings in your dataset?\n",
      "linker\n",
      "100%|████████████████████████████████████████| 12/12 [00:00<00:00, 41665.27it/s]\n"
     ]
    }
   ],
   "source": [
    "# Run here if the activated environment is intavia_flair \n",
    "! python en_text_to_json_flair.py 'data/wikipedia/Art_Nouveau'\n",
    "\n",
    "# Run in the terminal, with the intavia_allen Environment activated: \n",
    "# python en_text_to_json_allen.py --from_flair_json --path 'data/wikipedia/Art_Nouveau'"
   ]
  }
 ],
 "metadata": {
  "kernelspec": {
   "display_name": "test_pipelines",
   "language": "python",
   "name": "python3"
  },
  "language_info": {
   "codemirror_mode": {
    "name": "ipython",
    "version": 3
   },
   "file_extension": ".py",
   "mimetype": "text/x-python",
   "name": "python",
   "nbconvert_exporter": "python",
   "pygments_lexer": "ipython3",
   "version": "3.10.11"
  },
  "orig_nbformat": 4
 },
 "nbformat": 4,
 "nbformat_minor": 2
}

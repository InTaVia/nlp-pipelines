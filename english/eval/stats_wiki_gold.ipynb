{
 "cells": [
  {
   "cell_type": "code",
   "execution_count": 1,
   "metadata": {},
   "outputs": [],
   "source": [
    "import pandas as pd\n",
    "\n",
    "def read_file(filepath: str) -> pd.DataFrame:\n",
    "    sentence_id, document_id = 0, 0\n",
    "    doc_start = False\n",
    "    data = []\n",
    "    with open(filepath) as f:\n",
    "        for line in f:\n",
    "            row = line.strip().split()\n",
    "            if len(row) > 0:\n",
    "                if row[1] == '-DOCSTART-':\n",
    "                    document_id += 1\n",
    "                    doc_start = True\n",
    "                else:\n",
    "                    data.append({'document_id': document_id, 'sentence_id': sentence_id, 'token_id': row[0], 'word': row[1], 'label': row[2]})\n",
    "            elif doc_start:\n",
    "                doc_start = False\n",
    "            else:\n",
    "                sentence_id += 1\n",
    "    return pd.DataFrame(data)"
   ]
  },
  {
   "cell_type": "code",
   "execution_count": 3,
   "metadata": {},
   "outputs": [
    {
     "data": {
      "text/html": [
       "<div>\n",
       "<style scoped>\n",
       "    .dataframe tbody tr th:only-of-type {\n",
       "        vertical-align: middle;\n",
       "    }\n",
       "\n",
       "    .dataframe tbody tr th {\n",
       "        vertical-align: top;\n",
       "    }\n",
       "\n",
       "    .dataframe thead th {\n",
       "        text-align: right;\n",
       "    }\n",
       "</style>\n",
       "<table border=\"1\" class=\"dataframe\">\n",
       "  <thead>\n",
       "    <tr style=\"text-align: right;\">\n",
       "      <th></th>\n",
       "      <th>document_id</th>\n",
       "      <th>sentence_id</th>\n",
       "      <th>token_id</th>\n",
       "      <th>word</th>\n",
       "      <th>label</th>\n",
       "    </tr>\n",
       "  </thead>\n",
       "  <tbody>\n",
       "    <tr>\n",
       "      <th>0</th>\n",
       "      <td>0</td>\n",
       "      <td>0</td>\n",
       "      <td>0</td>\n",
       "      <td>010</td>\n",
       "      <td>B-MISC</td>\n",
       "    </tr>\n",
       "    <tr>\n",
       "      <th>1</th>\n",
       "      <td>0</td>\n",
       "      <td>0</td>\n",
       "      <td>1</td>\n",
       "      <td>is</td>\n",
       "      <td>O</td>\n",
       "    </tr>\n",
       "    <tr>\n",
       "      <th>2</th>\n",
       "      <td>0</td>\n",
       "      <td>0</td>\n",
       "      <td>2</td>\n",
       "      <td>the</td>\n",
       "      <td>O</td>\n",
       "    </tr>\n",
       "    <tr>\n",
       "      <th>3</th>\n",
       "      <td>0</td>\n",
       "      <td>0</td>\n",
       "      <td>3</td>\n",
       "      <td>tenth</td>\n",
       "      <td>O</td>\n",
       "    </tr>\n",
       "    <tr>\n",
       "      <th>4</th>\n",
       "      <td>0</td>\n",
       "      <td>0</td>\n",
       "      <td>4</td>\n",
       "      <td>album</td>\n",
       "      <td>O</td>\n",
       "    </tr>\n",
       "  </tbody>\n",
       "</table>\n",
       "</div>"
      ],
      "text/plain": [
       "   document_id  sentence_id token_id   word   label\n",
       "0            0            0        0    010  B-MISC\n",
       "1            0            0        1     is       O\n",
       "2            0            0        2    the       O\n",
       "3            0            0        3  tenth       O\n",
       "4            0            0        4  album       O"
      ]
     },
     "execution_count": 3,
     "metadata": {},
     "output_type": "execute_result"
    }
   ],
   "source": [
    "dataset = read_file(\"wikigold/test.conllu\")\n",
    "dataset.head()"
   ]
  },
  {
   "cell_type": "code",
   "execution_count": 4,
   "metadata": {},
   "outputs": [
    {
     "name": "stdout",
     "output_type": "stream",
     "text": [
      "O         32576\n",
      "I-ORG      1066\n",
      "B-LOC      1011\n",
      "B-PER       932\n",
      "B-ORG       892\n",
      "B-MISC      706\n",
      "I-PER       702\n",
      "I-MISC      686\n",
      "I-LOC       436\n",
      "Name: label, dtype: int64\n",
      "\n",
      "Documents = 145 | Sentences = 1696 | Tokens = 39007\n"
     ]
    }
   ],
   "source": [
    "label_counts = dataset['label'].value_counts()\n",
    "sentence_counts = dataset['sentence_id'].max() + 1\n",
    "document_counts = dataset['document_id'].max() + 1\n",
    "token_counts = dataset.shape[0]\n",
    "\n",
    "print(label_counts)\n",
    "print(f\"\\nDocuments = {document_counts} | Sentences = {sentence_counts} | Tokens = {token_counts}\")\n"
   ]
  },
  {
   "cell_type": "code",
   "execution_count": null,
   "metadata": {},
   "outputs": [],
   "source": []
  }
 ],
 "metadata": {
  "kernelspec": {
   "display_name": "nlp",
   "language": "python",
   "name": "python3"
  },
  "language_info": {
   "codemirror_mode": {
    "name": "ipython",
    "version": 3
   },
   "file_extension": ".py",
   "mimetype": "text/x-python",
   "name": "python",
   "nbconvert_exporter": "python",
   "pygments_lexer": "ipython3",
   "version": "3.8.12"
  },
  "orig_nbformat": 4,
  "vscode": {
   "interpreter": {
    "hash": "1f37b899a14b1e53256e3dbe85dea3859019f1cb8d1c44a9c4840877cfd0e7ef"
   }
  }
 },
 "nbformat": 4,
 "nbformat_minor": 2
}
